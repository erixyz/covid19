{
 "cells": [
  {
   "cell_type": "code",
   "execution_count": 4,
   "metadata": {},
   "outputs": [],
   "source": [
    "import pandas as pd\n",
    "import matplotlib.pyplot as plt\n",
    "import numpy as np\n",
    "from fuzzywuzzy import fuzz"
   ]
  },
  {
   "cell_type": "code",
   "execution_count": 5,
   "metadata": {},
   "outputs": [
    {
     "name": "stderr",
     "output_type": "stream",
     "text": [
      "C:\\Users\\casti\\Anaconda3\\lib\\site-packages\\IPython\\core\\interactiveshell.py:3071: DtypeWarning: Columns (1,2,9,10,12,13,14,15,16,17,19,21,22,23,24,25,26,27,31,32) have mixed types.Specify dtype option on import or set low_memory=False.\n",
      "  has_raised = await self.run_ast_nodes(code_ast.body, cell_name,\n"
     ]
    }
   ],
   "source": [
    "raw_data = pd.read_csv(\"covid19.csv\")"
   ]
  },
  {
   "cell_type": "code",
   "execution_count": 6,
   "metadata": {},
   "outputs": [],
   "source": [
    "#c_data = pd.read_csv(\"covid19_cleaned.csv\")\n",
    "c_data = pd.read_csv(\"covid19.csv\")"
   ]
  },
  {
   "cell_type": "code",
   "execution_count": 7,
   "metadata": {
    "scrolled": true
   },
   "outputs": [
    {
     "data": {
      "text/plain": [
       "Index(['ID', 'age', 'sex', 'city', 'province', 'country', 'latitude',\n",
       "       'longitude', 'geo_resolution', 'date_onset_symptoms',\n",
       "       'date_admission_hospital', 'date_confirmation', 'symptoms',\n",
       "       'lives_in_Wuhan', 'travel_history_dates', 'travel_history_location',\n",
       "       'reported_market_exposure', 'additional_information',\n",
       "       'chronic_disease_binary', 'chronic_disease', 'source',\n",
       "       'sequence_available', 'outcome', 'date_death_or_discharge',\n",
       "       'notes_for_discussion', 'location', 'admin3', 'admin2', 'admin1',\n",
       "       'country_new', 'admin_id', 'data_moderator_initials',\n",
       "       'travel_history_binary'],\n",
       "      dtype='object')"
      ]
     },
     "execution_count": 7,
     "metadata": {},
     "output_type": "execute_result"
    }
   ],
   "source": [
    "# Nice to have columns on hand\n",
    "c_data.columns"
   ]
  },
  {
   "cell_type": "code",
   "execution_count": 8,
   "metadata": {
    "scrolled": true
   },
   "outputs": [
    {
     "data": {
      "text/plain": [
       "Hospitalized                                                                202475\n",
       "Recovered                                                                    93656\n",
       "Deceased                                                                      5011\n",
       "Under treatment                                                                370\n",
       "Receiving Treatment                                                            257\n",
       "Alive                                                                          189\n",
       "discharge                                                                      175\n",
       "stable                                                                         156\n",
       "died                                                                           153\n",
       "stable condition                                                               130\n",
       "https://www.mspbs.gov.py/covid-19.php                                          126\n",
       "discharged                                                                     117\n",
       "recovered                                                                       60\n",
       "death                                                                           48\n",
       "Stable                                                                          31\n",
       "Dead                                                                            13\n",
       "Migrated_Other                                                                   8\n",
       "Migrated                                                                         5\n",
       "Death                                                                            4\n",
       "Died                                                                             4\n",
       "Discharged from hospital                                                         4\n",
       "released from quarantine                                                         4\n",
       "dead                                                                             3\n",
       "recovering at home 03.03.2020                                                    2\n",
       "treated in an intensive care unit (14.02.2020)                                   2\n",
       "critical condition, intubated as of 14.02.2020                                   2\n",
       "Symptoms only improved with cough. Currently hospitalized for follow-up.         2\n",
       "severe                                                                           2\n",
       "Discharged                                                                       2\n",
       "not hospitalized                                                                 2\n",
       "Critical condition                                                               1\n",
       "severe illness                                                                   1\n",
       "unstable                                                                         1\n",
       "critical condition                                                               1\n",
       "Name: outcome, dtype: int64"
      ]
     },
     "execution_count": 8,
     "metadata": {},
     "output_type": "execute_result"
    }
   ],
   "source": [
    "# Cleaning and extracting information from the \"outcome\" column.\n",
    "# \"Outcome\" is a very good place to begin extracting insights.\n",
    "# Lots of case outcomes to look at.\n",
    "raw_data[\"outcome\"].value_counts()"
   ]
  },
  {
   "cell_type": "code",
   "execution_count": 9,
   "metadata": {},
   "outputs": [],
   "source": [
    "# These functions extract keywords from the \"outcome\" column.\n",
    "# \"Outcome\" gives us information we can categorize into two features:\n",
    "# \"deaths\" and \"hospitalizations\".\n",
    "\n",
    "# Look for hospital-related keywords.\n",
    "# This function just wraps the stringChecker function\n",
    "# and passes it a hardcoded list\n",
    "\n",
    "#might be better to do this with regular expressions\n",
    "def hospitalization(s):\n",
    "    \n",
    "    # Filter this value out...\n",
    "    if s == \"not hospitalized\":\n",
    "        return 0\n",
    "    \n",
    "    # A regular expression may be more \n",
    "    # algorithmically efficient\n",
    "    hospitalStrings = [ \n",
    "       \"hospital\", \n",
    "       \"intensive\", \n",
    "       \"released\",\n",
    "       \"care\", \n",
    "       \"discharged\",\n",
    "       \"intubated\", \n",
    "       \"migrated\",\n",
    "       \"stable\"\n",
    "       \"death\",\n",
    "       \"deceased\",\n",
    "       \"died\",\n",
    "   ]\n",
    "    return stringChecker(s, hospitalStrings)\n",
    "\n",
    "# Issue: we are assuming a death is a hospitalization\n",
    "# Verify it is sound by checking the statistics of \n",
    "# only deaths with hospitalization dates"
   ]
  },
  {
   "cell_type": "code",
   "execution_count": 10,
   "metadata": {},
   "outputs": [],
   "source": [
    "# Same as above function but for deaths.\n",
    "def death(s):\n",
    "    deathStrings = [\n",
    "        \"deceased\",\n",
    "        \"died\",\n",
    "        \"death\",\n",
    "        \"dead\"\n",
    "    ]\n",
    "    return stringChecker(s, deathStrings)"
   ]
  },
  {
   "cell_type": "code",
   "execution_count": 11,
   "metadata": {},
   "outputs": [],
   "source": [
    "# Check if s contains a string in the argument list\n",
    "def stringChecker(s, l):\n",
    "    s = str(s).lower()\n",
    "    for word in l:\n",
    "      if s.find(word) != -1:\n",
    "        return 1         \n",
    "    return 0"
   ]
  },
  {
   "cell_type": "code",
   "execution_count": 12,
   "metadata": {},
   "outputs": [
    {
     "data": {
      "text/plain": [
       "0    2102322\n",
       "1     207789\n",
       "Name: hospitalized, dtype: int64"
      ]
     },
     "execution_count": 12,
     "metadata": {},
     "output_type": "execute_result"
    }
   ],
   "source": [
    "# Create a new column for hospitalizations\n",
    "# Use our above function to extract out booleans.\n",
    "c_data[\"hospitalized\"] = raw_data[\"outcome\"].apply(hospitalization)\n",
    "c_data[\"hospitalized\"].value_counts()"
   ]
  },
  {
   "cell_type": "code",
   "execution_count": 13,
   "metadata": {
    "scrolled": true
   },
   "outputs": [
    {
     "data": {
      "text/plain": [
       "0    2304875\n",
       "1       5236\n",
       "Name: deceased, dtype: int64"
      ]
     },
     "execution_count": 13,
     "metadata": {},
     "output_type": "execute_result"
    }
   ],
   "source": [
    "# Same as above for deceased. Extract all deaths.\n",
    "c_data[\"deceased\"] = raw_data[\"outcome\"].apply(death)\n",
    "c_data[\"deceased\"].value_counts()"
   ]
  },
  {
   "cell_type": "code",
   "execution_count": 14,
   "metadata": {},
   "outputs": [],
   "source": [
    "# Cleaning up dates:\n",
    "# Clean up date values\n",
    "# remove hyphens, return just the first date\n",
    "def cleanDate(s):\n",
    "    s = str(s)\n",
    "    split = s.split(\"-\")\n",
    "    return split[0].strip()"
   ]
  },
  {
   "cell_type": "code",
   "execution_count": 15,
   "metadata": {},
   "outputs": [],
   "source": [
    "# Apply the above function to our three date columns.\n",
    "# Thankfully our dates are already formatted nicely.\n",
    "c_data[\"date_admission_hospital\"] = raw_data[\"date_admission_hospital\"].apply(cleanDate)\n",
    "c_data[\"date_onset_symptoms\"] = raw_data[\"date_onset_symptoms\"].apply(cleanDate)\n",
    "c_data[\"date_confirmation\"] = raw_data[\"date_confirmation\"].apply(cleanDate)"
   ]
  },
  {
   "cell_type": "code",
   "execution_count": 16,
   "metadata": {},
   "outputs": [
    {
     "data": {
      "text/plain": [
       "(array(['nan', '04.02.2020', '30.01.2020', '14.02.2020', '17.02.2020',\n",
       "        '13.02.2020', '10.02.2020', '12.02.2020', '15.02.2020',\n",
       "        '08.02.2020', '05.02.2020', '07.02.2020', '09.02.2020',\n",
       "        '26.01.2020', '26.02.2020', '03.02.2020', '28.01.2020',\n",
       "        '06.02.2020', '11.02.2020', '16.02.2020', '19.02.2020',\n",
       "        '22.01.2020', '18.01.2020', '23.01.2020', '20.02.2020',\n",
       "        '18.02.2020', '21.02.2020', '24.01.2020', '22.02.2020',\n",
       "        '29.01.2020', '27.01.2020', '23.02.2020', '24.02.2020',\n",
       "        '25.02.2020', '25.01.2020', '27.02.2020', '08.01.2020',\n",
       "        '15.01.2020', '17.01.2020', '28.02.2020', '20.01.2020',\n",
       "        '01.03.2020', '10.01.2020', '29.03.2020', '29.02.2020',\n",
       "        '13.01.2020', '03.01.2020', '04.03.2020', '03.03.2020',\n",
       "        '19.01.2020', '21.01.2020', '05.03.2020', '02.03.2020',\n",
       "        '03.04.2020', '06.03.2020', '31.01.2020', '08.03.2020',\n",
       "        '09.03.2020', '10.03.2020', '07.03.2020', '01.02.2020',\n",
       "        '02.02.2020', '14.01.2020', '13.03.2020', '11.01.2020',\n",
       "        '14.03.2020', '15.03.2020', '12.01.2020', '09.01.2020',\n",
       "        '16.01.2020', '04.01.2020', '05.01.2020', '01.01.2020',\n",
       "        '27.12.2019', '31.12.2019', '10.12.2019', '06.01.2020',\n",
       "        '11.03.2020', '17.03.2020', '22.03.2020', '12.03.2020',\n",
       "        '23.03.2020', '26.03.2020', '16.03.2020', '18.03.2020',\n",
       "        '27.03.2020', '20.03.2020', '19.03.2020', '21.03.2020',\n",
       "        '24.03.2020', '25.03.2020', '28.03.2020', '30.03.2020',\n",
       "        '01.04.2020', '31.03.2020', '31.04.2020', '29.04.2020',\n",
       "        '02.04.2020', '05.04.2020', '06.04.2020', '04.04.2020',\n",
       "        '07.04.2020', '08.04.2020', '10.04.2020', '11.04.2020',\n",
       "        '13.04.2020', '15.04.2020', '17.04.2020', '19.04.2020',\n",
       "        '21.04.2020', '22.04.2020', '26.04.2020', '02.05.2020',\n",
       "        '16.04.2020', '12.04.2020', '18.04.2020', '14.04.2020',\n",
       "        '09.05.2020', '09.04.2020', '24.04.2020', '25.04.2020',\n",
       "        '28.04.2020', '30.04.2020', '08.05.2020', '06.05.2020',\n",
       "        '23.04.2020', '11.05.2020', '01.05.2020', '05.05.2020',\n",
       "        '20.04.2020', '27.04.2020', '03.05.2020', '04.05.2020',\n",
       "        '10.05.2020', '07.05.2020', '27.05.2020', '28.05.2020',\n",
       "        '29.05.2020', '22.05.2020', '31.05.2020', '02.06.2020',\n",
       "        '23.05.2020', '24.05.2020', '25.05.2020', '26.05.2020',\n",
       "        '30.05.2020', '03.06.2020', '01.06.2020', '12.05.2020',\n",
       "        '13.05.2020', '14.05.2020', '15.05.2020', '16.05.2020',\n",
       "        '17.05.2020', '18.05.2020', '19.05.2020', '20.05.2020',\n",
       "        '21.05.2020'], dtype=object),\n",
       " array(['nan', '08.02.2020', '01.02.2020', '30.01.2020', '14.02.2020',\n",
       "        '11.02.2020', '03.02.2020', '10.02.2020', '07.02.2020',\n",
       "        '02.02.2020', '09.02.2020', '05.02.2020', '04.04.2020',\n",
       "        '04.02.2020', '28.01.2020', '21.01.2020', '12.02.2020',\n",
       "        '25.01.2020', '24.01.2020', '27.01.2020', '06.02.2020',\n",
       "        '31.01.2020', '29.01.2020', '16.02.2020', '22.01.2020',\n",
       "        '19.01.2020', '18.01.2020', '18.02.2020', '19.02.2020',\n",
       "        '20.02.2020', '15.02.2020', '17.02.2020', '13.02.2020',\n",
       "        '16.01.2020', '22.02.2020', '23.01.2020', '17.01.2020',\n",
       "        '23.02.2020', '21.02.2020', '24.02.2020', '25.02.2020',\n",
       "        '26.02.2020', '27.02.2020', '08.01.2020', '15.01.2020',\n",
       "        '04.01.2020', '26.01.2020', '14.01.2020', '29.02.2020',\n",
       "        '03.01.2020', '09.01.2020', '20.01.2020', '03.03.2020',\n",
       "        '28.02.2020', '02.03.2020', '04.03.2020', '31.12.2019',\n",
       "        '05.03.2020', '06.03.2020', '01.03.2020', '07.03.2020',\n",
       "        '08.03.2020', '08.03.20202', '09.03.2020', '11.03.2020',\n",
       "        '13.01.2020', '10.01.2020', '01.01.2020', '02.01.2020',\n",
       "        '10.03.2020', '12.03.2020', '13.03.2020', '29.12.2019',\n",
       "        '11.01.2020', '12.01.2020', '01.31.2020', '05.01.2020',\n",
       "        '22.12.2019', '26.11.2020', '06.01.2020', '23.12.2019',\n",
       "        '10.12.2019', '20.12.2019', '30.12.2019', '19.03.2020',\n",
       "        '16.03.2020', '14.03.2020', '15.03.2020', '25.03.2020',\n",
       "        '27.03.2020', '21.03.2020', '17.03.2020', '18.03.2020',\n",
       "        '24.03.2020', '23.03.2020', '26.03.2020', '20.03.2020',\n",
       "        '22.03.2020', '28.03.2020', '29.03.2020', '30.03.2020',\n",
       "        '31.03.2020', '01.04.2020', '02.04.2020', '03.04.2020',\n",
       "        '05.04.2020', '06.04.2020', '07.04.2020', '08.04.2020',\n",
       "        '09.04.2020', '10.04.2020', '11.04.2020', '31.04.2020',\n",
       "        '14.04.2020', '16.04.2020', '15.04.2020', '23.04.2020',\n",
       "        '24.04.2020', '27.04.2020', '28.04.2020', '30.04.2020',\n",
       "        '12.04.2020', '17.04.2020', '18.04.2020', '19.04.2020',\n",
       "        '20.04.2020', '21.04.2020', '22.04.2020', '13.04.2020',\n",
       "        '02.05.2020', '25.04.2020', '26.04.2020', '29.04.2020',\n",
       "        '04.05.2020', '01.05.2020', '03.05.2020', '21.05.2020',\n",
       "        '05.05.2020', '13.05.2020', '06.05.2020', '08.05.2020',\n",
       "        '22.05.2020', '09.05.2020', '10.05.2020', '20.05.2020',\n",
       "        '07.05.2020', '15.05.2020', '19.05.2020', '14.05.2020',\n",
       "        '23.05.2020', '12.05.2020', '16.05.2020', '18.05.2020',\n",
       "        '17.05.2020', '11.05.2020', '24.05.2020', '26.05.2020',\n",
       "        '25.05.2020', '29.05.2020', '31.05.2020', '01.06.2020',\n",
       "        '30.05.2020', '27.05.2020', '28.05.2020', '02.06.2020'],\n",
       "       dtype=object),\n",
       " array(['14.02.2020', '21.02.2020', '26.01.2020', '15.02.2020',\n",
       "        '16.02.2020', '07.02.2020', '08.02.2020', '03.02.2020',\n",
       "        '13.02.2020', '12.02.2020', '10.02.2020', '11.02.2020',\n",
       "        '09.02.2020', '17.02.2020', '18.02.2020', '04.02.2020',\n",
       "        '06.02.2020', '25.02.2020', '05.03.2020', '22.02.2020',\n",
       "        '19.02.2020', '20.02.2020', '25.01.2020', '24.01.2020',\n",
       "        '01.02.2020', '28.01.2020', '29.01.2020', '23.01.2020',\n",
       "        '23.02.2020', 'nan', '31.01.2020', '30.01.2020', '26.02.2020',\n",
       "        '24.02.2020', '07.03.2020', '27.02.2020', '01.03.2020',\n",
       "        '28.02.2020', '21.01.2020', '04.03.2020', '29.02.2020',\n",
       "        '02.03.2020', '27.01.2020', '02.02.2020', '15.01.2020',\n",
       "        '03.03.2020', '06.03.2020', '19.03.2020', '05.02.2020',\n",
       "        '13.03.2020', '09.03.2020', '11.03.2020', '08.03.2020',\n",
       "        '06.01.2020', '17.03.2020', '10.03.2020', '12.03.2020',\n",
       "        '14.03.2020', '15.03.2020', '18.03.2020', '16.03.2020',\n",
       "        '22.01.2020', '16.01.2020', '19.01.2020', '20.01.2020',\n",
       "        '20.03.2020', '12.01.2020', '17.01.2020', '18.01.2020',\n",
       "        '26.03.2020', '23.04.2020', '27.03.2020', '24.04.2020',\n",
       "        '22.04.2020', '28.03.2020', '29.03.2020', '25.04.2020',\n",
       "        '21.03.2020', '23.03.2020', '24.03.2020', '30.03.2020',\n",
       "        '26.04.2020', '27.04.2020', '31.03.2020', '19.04.2020',\n",
       "        '20.04.2020', '21.04.2020', '22.03.2020', '25.03.2020',\n",
       "        '28.04.2020', '29.04.2020', '30.04.2020', '01.05.2020',\n",
       "        '02.05.2020', '03.05.2020', '04.05.2020', '05.05.2020',\n",
       "        '06.05.2020', '07.05.2020', '08.05.2020', '09.05.2020',\n",
       "        '10.05.2020', '11.05.2020', '12.05.2020', '01.04.2020',\n",
       "        '13.05.2020', '14.05.2020', '15.05.2020', '16.05.2020',\n",
       "        '17.05.2020', '18.05.2020', '19.05.2020', '20.05.2020',\n",
       "        '21.05.2020', '22.05.2020', '23.05.2020', '24.05.2020',\n",
       "        '02.04.2020', '25.05.2020', '03.04.2020', '26.05.2020',\n",
       "        '27.05.2020', '28.05.2020', '29.05.2020', '04.04.2020',\n",
       "        '30.05.2020', '31.05.2020', '05.04.2020', '01.06.2020',\n",
       "        '06.04.2020', '07.04.2020', '08.04.2020', '09.04.2020',\n",
       "        '10.04.2020', '11.04.2020', '12.04.2020', '13.04.2020',\n",
       "        '14.04.2020', '15.04.2020', '16.04.2020', '17.04.2020',\n",
       "        '18.04.2020', '02.06.2020', '03.06.2020'], dtype=object))"
      ]
     },
     "execution_count": 16,
     "metadata": {},
     "output_type": "execute_result"
    }
   ],
   "source": [
    "# Visually inspect date values:\n",
    "c_data[\"date_admission_hospital\"].unique(), c_data[\"date_onset_symptoms\"].unique(), c_data[\"date_confirmation\"].unique()"
   ]
  },
  {
   "cell_type": "code",
   "execution_count": 17,
   "metadata": {},
   "outputs": [
    {
     "data": {
      "text/plain": [
       "fever                                                                                     320\n",
       "Mild to moderate                                                                          257\n",
       "Mild:moderate                                                                             128\n",
       "cough, fever                                                                              126\n",
       "cough                                                                                      52\n",
       "                                                                                         ... \n",
       "septic shock:cardiogenic shock:acute respiratory distress syndrome:acute renal failure      1\n",
       "Pneumonia                                                                                   1\n",
       "acute respiratory failure:sepsis:pneumonia                                                  1\n",
       "fever:headache:malaise:sore throat:cough                                                    1\n",
       "pneumonia:congestive heart failure                                                          1\n",
       "Name: symptoms, Length: 448, dtype: int64"
      ]
     },
     "execution_count": 17,
     "metadata": {},
     "output_type": "execute_result"
    }
   ],
   "source": [
    "c_data[\"symptoms\"].value_counts()"
   ]
  },
  {
   "cell_type": "code",
   "execution_count": 18,
   "metadata": {},
   "outputs": [
    {
     "data": {
      "text/plain": [
       "2310111"
      ]
     },
     "execution_count": 18,
     "metadata": {},
     "output_type": "execute_result"
    }
   ],
   "source": [
    "len(c_data[\"symptoms\"])"
   ]
  },
  {
   "cell_type": "code",
   "execution_count": 19,
   "metadata": {},
   "outputs": [
    {
     "data": {
      "text/plain": [
       "array([nan, 'fever, severe pneumonia', 'fever',\n",
       "       'cough, fever, sore throat', 'cough, fever', 'dyspnea, fever',\n",
       "       'cough, difficulty breathing, fever', 'fever (38 ° C)',\n",
       "       '37.1 ° C, mild coughing', 'cough',\n",
       "       'abdominal pain, pulmonary inflammation', 'Sore throat',\n",
       "       'feeling ill, coughing',\n",
       "       'abdominal pain, diarrhea, fever, general malaise',\n",
       "       'poor physical condition', 'cough, fatigue, fever', 'yes',\n",
       "       'fever 38.3', 'fever (39.5 ℃)', 'fever 37.7℃', 'fever 37.5℃',\n",
       "       'anorexia', 'nausea, cough, pneumonia, fever',\n",
       "       'fever 38.2 ℃, cough', 'fever 37 C', 'malaise, headache',\n",
       "       'fever (37 ℃), breathing difficulty',\n",
       "       'fever (37.5 ℃, then 38 ℃), cough, malaise',\n",
       "       'sore throat, Cough, fever (37 ℃)',\n",
       "       'fever, shortness of breath, pneumonia', 'severe dyspnea',\n",
       "       'fever, cough', 'nausea', 'fever; fatigue',\n",
       "       'chest tightness; fatigue', 'cough; fever',\n",
       "       'fever; nasal congestion; runny nose; sore throat; cough',\n",
       "       'fever 39.3', 'fever 38',\n",
       "       'no respiratory symptoms, esophageal reflux',\n",
       "       'cough; sputum; fever', 'dry cough', 'cough; sore body; cold',\n",
       "       'flu-like symptoms', 'acute pharyngitis', 'sore throat',\n",
       "       'fever, sore throat, mild cough', 'fever; fatigue; dry cough',\n",
       "       'low fever 37.0 ℃', 'low fever (37.4 ℃)',\n",
       "       'low fever (37.2 ° C); cough', 'fever (39.5 ℃), malaise',\n",
       "       'sore throat; fever, nasal discharge',\n",
       "       'fever (37.4 ° C), pneumonia', 'fever (37.8 ℃), cough',\n",
       "       'fever (38-39 ° C), malaise',\n",
       "       'fever 38.1 ℃ Cough, malaise, anorexia',\n",
       "       'Discharge, cough, sore throat, chest pain',\n",
       "       'fever, cough, phlegm, dyspnea', 'fever, cough, phlegm',\n",
       "       'fever 37.8 ℃ , sore throat', 'rever, cough',\n",
       "       'fever 37.1 ℃ , couh', 'fever 38.3 ℃ , cough',\n",
       "       'malaise, fever (37 ℃); headache, toothache, pneumonia',\n",
       "       'Sore throat, chills', 'fever 37.5 , headache, malaise',\n",
       "       'Fever, cough, headache', 'fever 37.2', 'cough, malaise',\n",
       "       'sore throat, fever (38-39 ℃)', 'fatigue, fever (38 ℃)',\n",
       "       'fever (38.3 ℃)', 'vomiting, cough, fever (38.2 ℃), sore throat',\n",
       "       'fever (39 ° C), joint pain', 'fever (37.4 ℃), cough',\n",
       "       'fever (40.3 ℃), Headache, malaise, joint pain',\n",
       "       'fever (39.9 ℃), cough', 'fever (39.3 ℃), cough',\n",
       "       'cough, fever (38.3 ℃), joint pain', 'Cough, fever (38 ℃)',\n",
       "       'Fever (37.4 ° C), malaise, sore throa', 'cough, sore throat',\n",
       "       'Fever (38 ° C)', 'Fever (38.1 ° C), cough, headache.',\n",
       "       'pneumonitis', 'no serious symptoms', 'fatigue, fever, headache',\n",
       "       'fatigue, fever', 'dizziness, sore limbs',\n",
       "       'systemic weakness, runny nose, fever', 'pneumonia',\n",
       "       'similar to a respiratory infection', 'mild',\n",
       "       'chills, headache, fatigue', 'cough, phlegm, fever 37 degrees',\n",
       "       'fever 39.0 ℃', 'fever (38.0 ℃), Fatigue, difficulty walking',\n",
       "       'fever (38.0 ℃)', 'chills,  fever (38 ℃), malaise',\n",
       "       'Sputum, cough symptoms, fever (37 ℃), cough, breathing difficulty',\n",
       "       'fever (37.0 ℃), fever (38.7 ℃)', 'fever (37.5 ℃ ～ 38.0 ℃)',\n",
       "       'fever and cough', 'fever, runny nose',\n",
       "       'fever, pneumonia, sore throat', 'respiratory complaints',\n",
       "       'acute respiratory viral infection (ARVI)',\n",
       "       'fever, sneezing, coughing',\n",
       "       'fever, chills, muscle, joint pain and cough',\n",
       "       'cough, fever, shortness of breath', 'cough, fever, myalgia',\n",
       "       'chills, fever, myalgias, sore throat', 'asymptomatic, afebrile',\n",
       "       'fever, sore throat', 'cough, dyspnea', 'cough, fever, bone pain',\n",
       "       'cough fever', 'fever, headache, malaise, sore throat, cough',\n",
       "       'fever, sore throat, cough, shortness of breath', 'diarrhea',\n",
       "       'cough, fever, myalgia, rhinorrhea, sore throat',\n",
       "       'aching muscles, fever, pneumonia',\n",
       "       'chills, cough, fatigue, fever',\n",
       "       'chills, conjunctivitis, cough, fever',\n",
       "       'cough, sore throat, body aches, fever',\n",
       "       'dry cough, runny nose, shortness of breath, headache',\n",
       "       'cough, body aches, chills',\n",
       "       'fever, runny nose, body pain, diarrhea',\n",
       "       'severe, kidney failure and hypertension',\n",
       "       'fever, cough, nasal congestion', 'mild symptoms',\n",
       "       'lethargy; dry cough', 'fever, nausea, digestive discomfort',\n",
       "       'aggressive pulmonary symptomatology',\n",
       "       'lesions on chest radiographs', 'chills, cough, joint pain',\n",
       "       'cough, fever, pneumonia',\n",
       "       'Sore throat, headache, runny nose and tiredness',\n",
       "       'difficulty breathing', 'fever; headache; phlegm',\n",
       "       'fever; muscle aches; chills', 'sore throat; headache',\n",
       "       'chills; abdominal pain', 'sore throat, fever',\n",
       "       'fever; cough; sore throat', 'cough; sore throat; body aches',\n",
       "       'fever, cough, shortness of breath', 'cough, fever, sputum',\n",
       "       'fever, dcough', 'cough, nasal discharge, fever (37.2 ° C)',\n",
       "       'cough, general malaise, joint muscle pain',\n",
       "       'fever, headache, and malaise, influenza',\n",
       "       'Fever, cough, vomiting.', 'Cough, fever (38.0 ° C)',\n",
       "       'fever 37.8 ° C Dyspnea with pneumonia', 'headache',\n",
       "       'fever 37.5 ℃, diarrhea, nausea, dsypnea, cough, inappetance',\n",
       "       'fever (38.0 ° C), cough, malaise', 'fever (38.6 ℃)',\n",
       "       'fever, difficuty breathing', 'malaise, fever, joint pain',\n",
       "       'malaise, fever, joint pain, phlegm', 'fever (38.9℃)',\n",
       "       'fever (38.2℃)', 'cough, phlegn,  38 ° C fever', 'fever 37',\n",
       "       'fever (38.8 ℃), breathing difficulty',\n",
       "       'fever (37.6 ℃), fatigue, diarrhea',\n",
       "       'fever (38 ° C), nasal discharge/congestion, sore throat, malaise, joint pain',\n",
       "       'fever, joint pain', '38.7 degrees fever, headache, malaise',\n",
       "       'Fever (37.5 ° C)', 'fever, headache, cough',\n",
       "       'breathing difficulty', 'fever 38-39 C', 'fever 37-39 C',\n",
       "       'fever (37.6 - 38.3 degrees)', 'backache',\n",
       "       'fever (38.5 degrees), cough, sore throat',\n",
       "       'Fever, cough, runny nose', 'fever (37.5-39 ° C), rash',\n",
       "       'mild cough, phlegm', 'sneezing, runny nose and slight fever',\n",
       "       'runny nose', 'fever  (37.0-5 ℃), malaise', 'fever  (37.2 ℃)',\n",
       "       'chills, fever (38.5 ℃), mausea, diarrhea', 'fatigue',\n",
       "       'runny nose, sore throat, mile cough', 'fever, headache',\n",
       "       'fever, phlegm', 'Fever (37 ℃)', 'fever (38 ° C), cough',\n",
       "       'sneezing', 'fever (38), cough', 'minor fatigue, sore throat',\n",
       "       'fever 37.5', 'Cough, headache, general malaise',\n",
       "       'Fever, cough, malaise', 'Fever, cough',\n",
       "       'Fever, cough Difficulty breathing', 'fever (38.0)',\n",
       "       'fever (37.4-8), cough', 'fever, pneumonia, malaise',\n",
       "       'fever, cough, general pain', 'Fever (37.4 degrees), sore throat',\n",
       "       'Cough, headache, general malaise, sore throat',\n",
       "       'Fever, sore throat', 'fever (38 ℃)', 'fever (37.8 ℃)',\n",
       "       'phlegm, malaise', 'fever 38.0, cough, fatigue', 'fever 40.0',\n",
       "       'fever (39), inapatence', 'malaise, dyspnea, cough',\n",
       "       'chills, cough, fever', 'myalgia, rhinorrhea',\n",
       "       'mild, cough and fever', 'cough, fever, difficulty breathing',\n",
       "       'cough, fever, malaise', 'respiratory symptoms',\n",
       "       'fever, respiratory symptoms',\n",
       "       'acute respiratory viral infection, fever', 'discomfort, fever',\n",
       "       'cough, fever, headache, muscular soreness, weak',\n",
       "       'cough, dizziness', 'cough, fatigue, fever, weakness',\n",
       "       'cough, fever, weakness',\n",
       "       'cough, diarrhea, fever, rhinorrhoea, sneezing',\n",
       "       'anhelation, cough, fever, pleural effusion, weakness',\n",
       "       'diarrhea, fever, nasal congestion, pleuritic chest pain, sore throat',\n",
       "       'fever, cough, running nose',\n",
       "       'fever, cough, sore throat, mialgia, headache', 'Asymptomatic',\n",
       "       'Contact of hCoV-19/Brazil/SPBR-01/2020',\n",
       "       'fever, cough, nasal congestion, conjuntivitis', 'discomfort',\n",
       "       'acute respiratory syndrome', 'asymptomatic?',\n",
       "       'Rhinorrhea, pain and unwellness', 'Rhinorrhea, cough and fever',\n",
       "       'fever, cough and milagia, between others',\n",
       "       'cough, fever, respiratory problems', 'myalgia, headache, fever',\n",
       "       'fever, cough, body ache, mialgia',\n",
       "       'fever, cough, coriza, sore throath, headache, general weakness',\n",
       "       'fever, respiratory problems (lungs)',\n",
       "       'fever, cough and sore throath', 'oligosymptomatic',\n",
       "       'fever, body ache, sore throat, headache', 'asymptomatic',\n",
       "       'fever, myalgia, headache', 'fever, cough, myalgia', 'fever, weak',\n",
       "       'cough, fever, muscular soreness',\n",
       "       'chest distress, cough, expectoration, muscular soreness',\n",
       "       'dry cough, sore throat', 'severe', 'mild, runny nose',\n",
       "       'cough, headache', 'fever, sneeze',\n",
       "       'cough, muscular stiffness, weak', 'fever, pharyngeal discomfort',\n",
       "       'chills, headache, fever', 'fever, sore throat, sputum',\n",
       "       'physical discomfort', 'chest distress, dyspnea',\n",
       "       'cough, expectoration, fever', 'cough, fatigue, fever, sputum',\n",
       "       'chest tightness, dyspnea, fever', 'weakness', 'fever; cough',\n",
       "       'chest tightness, fever, nausea', 'cough, fever, muscle ache',\n",
       "       'anorexia, fatigue', 'cough, runny nose', 'cough, fever, soreness',\n",
       "       'pharynx', 'muscular soreness', 'cough, sputum',\n",
       "       'cough, sore throat, sputum', 'chills, fatigue',\n",
       "       'fever; dry cough; fatigue', 'fatigue, fever, weakness',\n",
       "       'cough, fever, runny nose', 'cough, dyspnea, fever',\n",
       "       'chills, fever, muscle aches, other symptoms',\n",
       "       'fatigue, muscle aches, sore throat',\n",
       "       'fever, sore muscle, weakness', 'chest tightness',\n",
       "       'cough, shortness of breath', 'no symptoms',\n",
       "       'cough, diarrhoea, runny nose',\n",
       "       'cough, fever, eventually showed acute left heart failure and acute coronary syndrome',\n",
       "       'cough, high fever, myalgia', 'fever, myalgia',\n",
       "       'fever;sore throat; fatigue; diarrhea',\n",
       "       'fever; sore throat;fatigue;vomiting', 'chest tightness, fever',\n",
       "       'fever, joint pain, muscle soreness', 'chills, fever',\n",
       "       'chest pain, nasal congestion', 'cough, muscle soreness, sweating',\n",
       "       'fever, muscular soreness, rigor',\n",
       "       'chills, diarrhea, dyspnea, headache, lack of energy, muscle pain',\n",
       "       'fever, pharyngalgia', 'fever, myalgia, shortness of breath',\n",
       "       'cough, fever, pneumonia, respiratory distress',\n",
       "       'chills, fever, runny nose, sore throat, wheezing',\n",
       "       'cough, respiratory problems', 'eye irritation, fever',\n",
       "       'fever, headache, runny nose', 'nausea, vomiting',\n",
       "       'fever, full body slump', 'transient fatigue',\n",
       "       'fever, dry throat, sore throat', 'fever; runny nose',\n",
       "       'dry throat; sore throat; fatigue', 'headache; dry mouth',\n",
       "       'fever; dry mouth; throat discomfort', 'pharyngeal discomfort',\n",
       "       'cough; throat discomfort',\n",
       "       'cough, discomfort, fever, other symptoms', 'Pharyngeal dryness',\n",
       "       'dry throat; dry cough', 'chest pain, cough',\n",
       "       'cough, chest tightness, dry mouth',\n",
       "       'fever; cough; fatigue; nausea', 'cough, fever, shortness breath',\n",
       "       'chills, fever, headache, sore throat',\n",
       "       'coughing, fever, muscle aches', 'cough, fever, nausea',\n",
       "       'fever, joint pain, pneumonia', 'cough, diarrheoa, vomiting',\n",
       "       'cough, fever, gasp', 'diarrhea, fever', 'chest distress, fever',\n",
       "       'chest distress, cough, fever, gasp',\n",
       "       'cough, fever, sensation of chill', 'dizziness, fever',\n",
       "       'chest distress, chest pain, fever, weak, dyspnea',\n",
       "       'cough, fever, dyspnea', 'chest discomfort, cough, fever',\n",
       "       'primary myelofibrosis', 'dyspnea, respiratory stress',\n",
       "       'cough, fatigue, fever, headache',\n",
       "       'cough, fatigure, fever, little sputum, muscular soreness',\n",
       "       'dyspnea', 'obnubilation, somnolence',\n",
       "       'cough, expectoration, emesis, fever',\n",
       "       'cold chills, muscular soreness',\n",
       "       'chest distress, cough, fatigue, fever',\n",
       "       'fatigue, shortness of breath', 'cough, fever, grasp, dyspnea',\n",
       "       'chest distress, cough, fever', 'cough, fever, grasp',\n",
       "       'fever:headache:malaise:sore throat:cough',\n",
       "       'fever:unproductive cough', 'Mild:moderate', 'Severe',\n",
       "       'cough:fever', 'fever:cold:cough', 'COVID-19 related symptoms',\n",
       "       'Mild to moderate', 'cough:rhinorrhea:sneezing:muscle pain',\n",
       "       'cough:cold:fever:aches:headache', 'cough:tired:chest pain',\n",
       "       'acute respiratory distress syndrome:severe pneumonia',\n",
       "       'acute respiratory failure:pneumonia',\n",
       "       'fever:cough:acute respiratory distress syndrome', 'fever:cough',\n",
       "       'cough:sore throat:colds', 'fever:headache:body malaise', 'none',\n",
       "       'cough:body malaise', 'fever:cough:shortness of breath',\n",
       "       'cough:colds:dysphagia', 'cough:sore throat:headache',\n",
       "       'septic shock:cardiogenic shock:acute respiratory distress syndrome:acute renal failure',\n",
       "       'fever:cough:dizziness', 'severe pneumonia',\n",
       "       'acute respiratory failure', 'multiple organ failure:pneumonia',\n",
       "       'acute respiratory distress syndrome:pneumonia',\n",
       "       'septic shock:pneumonia', 'acute respiratory distress syndrome',\n",
       "       'cardiac arrhythmia:septic shock:pneumonia',\n",
       "       'pneumonia:acute respiratory failure:heart failure',\n",
       "       'acute respiratory distress syndrome:pneumonia:septic shock',\n",
       "       'no clinical symptoms',\n",
       "       'myocardial infarction:pneumonia:multiple electrolyte imbalance',\n",
       "       'acute respiratory disease',\n",
       "       'acute respiratory distress:pneumonia',\n",
       "       'acute myocardial infarction',\n",
       "       'acute coronary syndrome:congestive heart failure:severe acute respiratory infection',\n",
       "       'acute respiratory failure:pneumonia:sepsis',\n",
       "       'acute respiratory distress syndrome:septic shock:pneumonia',\n",
       "       'acute respiratory failure:sepsis:pneumonia',\n",
       "       'cardiogenic shock:acute coronary syndrome:heart failure:pneumonia',\n",
       "       'acute respiratory failure:pneumonia:myocardial infarction',\n",
       "       'acute kidney injury:septic shock:acute respiratory distress syndrome',\n",
       "       'arrhythmia:acute respiratory distress syndrome:pneumonia',\n",
       "       'sepsis:pneumonia',\n",
       "       'acute respiratory distress syndrome:pneumonia:acute respiratory failure',\n",
       "       'acute respiratory failure:acute kidney injury',\n",
       "       'acute respiratory failure:myocardial dysfunction',\n",
       "       'acute respiratory distress syndrome:septic shock:pneumonia:gastritis:acute kidney injury',\n",
       "       'heart failure:pneumonia', 'pneumonia:congestive heart failure',\n",
       "       'cardiac arrhythmia:pneumonia',\n",
       "       'myocardial infarction:acute respiratory distress syndrome:pneumonia',\n",
       "       'cardiopulmonary arrest; acute respiratory failure; pneumonia',\n",
       "       'arrhythmia:septic shock:acute respiratory disease syndrome: acute kidney injury',\n",
       "       'acute respiratory failure:severe acute respiratory distress syndrome:pneumonia:septic shock',\n",
       "       'arrhythmia:sepsis:acute respiratory distress syndrome:pneumonia:acute kidney injury',\n",
       "       'acute respiratory distress syndrome:pneumonia:hypoxia',\n",
       "       'cardiopulmonary arrest: acute respiratory distress syndrome: pneumonia: hypoxia',\n",
       "       'acute respiratory distress syndrome:septic shock',\n",
       "       'acute respiratory distress syndrome: pneumonia', 'fever, chills',\n",
       "       'fever, cough, sore throat', 'mild respiratory symptoms',\n",
       "       'significant clinical suspicion', 'fever, general weakness, cough',\n",
       "       'fever, general weakness',\n",
       "       'headache, general weakness, runny nose, acute respiratory distress syndrome',\n",
       "       'headache, general weakness, runny nose, mialgia',\n",
       "       'febre, tosse, e sintomas respirat‚àö‚â•rios moderados',\n",
       "       'chest pain, respiratory distress, fever, dysphagia, asthenia, weakness, fatigue',\n",
       "       'fever, cough and general malaise',\n",
       "       'Symptoms associated with a respiratory condition',\n",
       "       'Mild respiratory symptoms',\n",
       "       'Mild resipiratory symptoms, then on March 4 had feverish symptoms',\n",
       "       'fever, cough, headache',\n",
       "       'first asymptomatic, devleoped mild respiratory sypmptoms (got over virus before being tested)',\n",
       "       'Respiratory symptoms', 'Catarrhal symptoms', 'catarrhal symptoms',\n",
       "       'Respiratory', 'severe respiratory failure', 'respiratory',\n",
       "       'pnuemonia', 'Pneumonia',\n",
       "       'respiratory difficult breathing died same day',\n",
       "       'torpid evolution with respiratory distress and severe bronchopneumonia',\n",
       "       'Respiratory & Pnuemonia-died 6/4/2020', 'Pnuemonia',\n",
       "       'kidney failure'], dtype=object)"
      ]
     },
     "execution_count": 19,
     "metadata": {},
     "output_type": "execute_result"
    }
   ],
   "source": [
    "# Data extraction from symptoms\n",
    "c_data[\"symptoms\"].unique()"
   ]
  },
  {
   "cell_type": "code",
   "execution_count": 20,
   "metadata": {},
   "outputs": [
    {
     "ename": "NameError",
     "evalue": "name 'noNullSymptoms' is not defined",
     "output_type": "error",
     "traceback": [
      "\u001b[1;31m---------------------------------------------------------------------------\u001b[0m",
      "\u001b[1;31mNameError\u001b[0m                                 Traceback (most recent call last)",
      "\u001b[1;32m<ipython-input-20-4a23448de8c1>\u001b[0m in \u001b[0;36m<module>\u001b[1;34m\u001b[0m\n\u001b[1;32m----> 1\u001b[1;33m \u001b[0mnoNullSymptoms\u001b[0m\u001b[1;33m[\u001b[0m\u001b[1;34m\"symptoms\"\u001b[0m\u001b[1;33m]\u001b[0m\u001b[1;33m.\u001b[0m\u001b[0msample\u001b[0m\u001b[1;33m(\u001b[0m\u001b[1;36m10\u001b[0m\u001b[1;33m)\u001b[0m\u001b[1;33m\u001b[0m\u001b[1;33m\u001b[0m\u001b[0m\n\u001b[0m",
      "\u001b[1;31mNameError\u001b[0m: name 'noNullSymptoms' is not defined"
     ]
    }
   ],
   "source": [
    "noNullSymptoms[\"symptoms\"].sample(10)"
   ]
  },
  {
   "cell_type": "code",
   "execution_count": 21,
   "metadata": {},
   "outputs": [
    {
     "data": {
      "text/plain": [
       "24"
      ]
     },
     "execution_count": 21,
     "metadata": {},
     "output_type": "execute_result"
    }
   ],
   "source": [
    "fuzz.ratio(\"chills\", \"pneumonitis\")"
   ]
  },
  {
   "cell_type": "code",
   "execution_count": 22,
   "metadata": {},
   "outputs": [],
   "source": [
    "def extractFuzzy(rowVal, testStrings):\n",
    "    for s in testStrings:\n",
    "        if (fuzz.ratio(s, rowVal) > 50):\n",
    "            return 1\n",
    "    return 0"
   ]
  },
  {
   "cell_type": "code",
   "execution_count": 23,
   "metadata": {},
   "outputs": [],
   "source": [
    "# This is a boolean array that will select\n",
    "# Only the columns in our data which\n",
    "# contain symptom values.\n",
    "indexSymptoms = np.logical_not(np.array(c_data[\"symptoms\"].isna()))"
   ]
  },
  {
   "cell_type": "code",
   "execution_count": 24,
   "metadata": {},
   "outputs": [
    {
     "data": {
      "text/plain": [
       "476         fever, severe pneumonia\n",
       "504                           fever\n",
       "756       cough, fever, sore throat\n",
       "765                    cough, fever\n",
       "767                  dyspnea, fever\n",
       "                    ...            \n",
       "629940                        cough\n",
       "642814                         mild\n",
       "643762         cough, fever, nausea\n",
       "643772                        cough\n",
       "645994                         mild\n",
       "Name: symptoms, Length: 2053, dtype: object"
      ]
     },
     "execution_count": 24,
     "metadata": {},
     "output_type": "execute_result"
    }
   ],
   "source": [
    "c_data.loc[indexSymptoms,\"symptoms\"]"
   ]
  },
  {
   "cell_type": "code",
   "execution_count": 25,
   "metadata": {},
   "outputs": [
    {
     "data": {
      "text/html": [
       "<div>\n",
       "<style scoped>\n",
       "    .dataframe tbody tr th:only-of-type {\n",
       "        vertical-align: middle;\n",
       "    }\n",
       "\n",
       "    .dataframe tbody tr th {\n",
       "        vertical-align: top;\n",
       "    }\n",
       "\n",
       "    .dataframe thead th {\n",
       "        text-align: right;\n",
       "    }\n",
       "</style>\n",
       "<table border=\"1\" class=\"dataframe\">\n",
       "  <thead>\n",
       "    <tr style=\"text-align: right;\">\n",
       "      <th></th>\n",
       "      <th>ID</th>\n",
       "      <th>age</th>\n",
       "      <th>sex</th>\n",
       "      <th>city</th>\n",
       "      <th>province</th>\n",
       "      <th>country</th>\n",
       "      <th>latitude</th>\n",
       "      <th>longitude</th>\n",
       "      <th>geo_resolution</th>\n",
       "      <th>date_onset_symptoms</th>\n",
       "      <th>...</th>\n",
       "      <th>cough</th>\n",
       "      <th>fatigue</th>\n",
       "      <th>headache</th>\n",
       "      <th>dizziness</th>\n",
       "      <th>sore throat</th>\n",
       "      <th>pneumonia</th>\n",
       "      <th>respiratory</th>\n",
       "      <th>severe_r</th>\n",
       "      <th>nausea</th>\n",
       "      <th>diarrhea</th>\n",
       "    </tr>\n",
       "  </thead>\n",
       "  <tbody>\n",
       "    <tr>\n",
       "      <th>476</th>\n",
       "      <td>000-1-10426</td>\n",
       "      <td>60</td>\n",
       "      <td>male</td>\n",
       "      <td>Yokohama</td>\n",
       "      <td>Kanagawa Prefecture</td>\n",
       "      <td>Japan</td>\n",
       "      <td>35.450850</td>\n",
       "      <td>139.665100</td>\n",
       "      <td>point</td>\n",
       "      <td>03.02.2020</td>\n",
       "      <td>...</td>\n",
       "      <td>0.0</td>\n",
       "      <td>0.0</td>\n",
       "      <td>0.0</td>\n",
       "      <td>0.0</td>\n",
       "      <td>0.0</td>\n",
       "      <td>1.0</td>\n",
       "      <td>0.0</td>\n",
       "      <td>0.0</td>\n",
       "      <td>0.0</td>\n",
       "      <td>0.0</td>\n",
       "    </tr>\n",
       "    <tr>\n",
       "      <th>504</th>\n",
       "      <td>000-1-10451</td>\n",
       "      <td>40-49</td>\n",
       "      <td>male</td>\n",
       "      <td>NaN</td>\n",
       "      <td>Saitama</td>\n",
       "      <td>Japan</td>\n",
       "      <td>35.997360</td>\n",
       "      <td>139.347600</td>\n",
       "      <td>admin1</td>\n",
       "      <td>08.02.2020</td>\n",
       "      <td>...</td>\n",
       "      <td>0.0</td>\n",
       "      <td>0.0</td>\n",
       "      <td>0.0</td>\n",
       "      <td>0.0</td>\n",
       "      <td>0.0</td>\n",
       "      <td>0.0</td>\n",
       "      <td>0.0</td>\n",
       "      <td>0.0</td>\n",
       "      <td>0.0</td>\n",
       "      <td>0.0</td>\n",
       "    </tr>\n",
       "    <tr>\n",
       "      <th>756</th>\n",
       "      <td>000-1-10679</td>\n",
       "      <td>20-29</td>\n",
       "      <td>male</td>\n",
       "      <td>Haneda Airport</td>\n",
       "      <td>Tokyo</td>\n",
       "      <td>Japan</td>\n",
       "      <td>35.553333</td>\n",
       "      <td>139.781111</td>\n",
       "      <td>point</td>\n",
       "      <td>07.02.2020</td>\n",
       "      <td>...</td>\n",
       "      <td>1.0</td>\n",
       "      <td>0.0</td>\n",
       "      <td>0.0</td>\n",
       "      <td>0.0</td>\n",
       "      <td>1.0</td>\n",
       "      <td>0.0</td>\n",
       "      <td>0.0</td>\n",
       "      <td>0.0</td>\n",
       "      <td>0.0</td>\n",
       "      <td>0.0</td>\n",
       "    </tr>\n",
       "    <tr>\n",
       "      <th>765</th>\n",
       "      <td>000-1-10687</td>\n",
       "      <td>40-49</td>\n",
       "      <td>male</td>\n",
       "      <td>NaN</td>\n",
       "      <td>Tokyo</td>\n",
       "      <td>Japan</td>\n",
       "      <td>35.711450</td>\n",
       "      <td>139.446800</td>\n",
       "      <td>admin1</td>\n",
       "      <td>02.02.2020</td>\n",
       "      <td>...</td>\n",
       "      <td>1.0</td>\n",
       "      <td>0.0</td>\n",
       "      <td>0.0</td>\n",
       "      <td>0.0</td>\n",
       "      <td>0.0</td>\n",
       "      <td>0.0</td>\n",
       "      <td>0.0</td>\n",
       "      <td>0.0</td>\n",
       "      <td>0.0</td>\n",
       "      <td>0.0</td>\n",
       "    </tr>\n",
       "    <tr>\n",
       "      <th>767</th>\n",
       "      <td>000-1-10689</td>\n",
       "      <td>80-89</td>\n",
       "      <td>male</td>\n",
       "      <td>NaN</td>\n",
       "      <td>Tokyo</td>\n",
       "      <td>Japan</td>\n",
       "      <td>35.711450</td>\n",
       "      <td>139.446800</td>\n",
       "      <td>admin1</td>\n",
       "      <td>09.02.2020</td>\n",
       "      <td>...</td>\n",
       "      <td>0.0</td>\n",
       "      <td>0.0</td>\n",
       "      <td>0.0</td>\n",
       "      <td>0.0</td>\n",
       "      <td>0.0</td>\n",
       "      <td>0.0</td>\n",
       "      <td>0.0</td>\n",
       "      <td>0.0</td>\n",
       "      <td>0.0</td>\n",
       "      <td>0.0</td>\n",
       "    </tr>\n",
       "  </tbody>\n",
       "</table>\n",
       "<p>5 rows × 46 columns</p>\n",
       "</div>"
      ],
      "text/plain": [
       "              ID    age   sex            city             province country  \\\n",
       "476  000-1-10426     60  male        Yokohama  Kanagawa Prefecture   Japan   \n",
       "504  000-1-10451  40-49  male             NaN              Saitama   Japan   \n",
       "756  000-1-10679  20-29  male  Haneda Airport                Tokyo   Japan   \n",
       "765  000-1-10687  40-49  male             NaN                Tokyo   Japan   \n",
       "767  000-1-10689  80-89  male             NaN                Tokyo   Japan   \n",
       "\n",
       "      latitude   longitude geo_resolution date_onset_symptoms  ... cough  \\\n",
       "476  35.450850  139.665100          point          03.02.2020  ...   0.0   \n",
       "504  35.997360  139.347600         admin1          08.02.2020  ...   0.0   \n",
       "756  35.553333  139.781111          point          07.02.2020  ...   1.0   \n",
       "765  35.711450  139.446800         admin1          02.02.2020  ...   1.0   \n",
       "767  35.711450  139.446800         admin1          09.02.2020  ...   0.0   \n",
       "\n",
       "    fatigue headache dizziness sore throat pneumonia respiratory severe_r  \\\n",
       "476     0.0      0.0       0.0         0.0       1.0         0.0      0.0   \n",
       "504     0.0      0.0       0.0         0.0       0.0         0.0      0.0   \n",
       "756     0.0      0.0       0.0         1.0       0.0         0.0      0.0   \n",
       "765     0.0      0.0       0.0         0.0       0.0         0.0      0.0   \n",
       "767     0.0      0.0       0.0         0.0       0.0         0.0      0.0   \n",
       "\n",
       "     nausea diarrhea  \n",
       "476     0.0      0.0  \n",
       "504     0.0      0.0  \n",
       "756     0.0      0.0  \n",
       "765     0.0      0.0  \n",
       "767     0.0      0.0  \n",
       "\n",
       "[5 rows x 46 columns]"
      ]
     },
     "execution_count": 25,
     "metadata": {},
     "output_type": "execute_result"
    }
   ],
   "source": [
    "#ugly\n",
    "c_data.loc[indexSymptoms,\"fever\"] = c_data.loc[indexSymptoms,\"symptoms\"].apply(stringChecker, args=([\"fever\"]))\n",
    "c_data.loc[indexSymptoms,\"cough\"] = c_data.loc[indexSymptoms,\"symptoms\"].apply(stringChecker, args=([[\"cough\", \"phlegm\"]]))\n",
    "c_data.loc[indexSymptoms,\"fatigue\"] = c_data.loc[indexSymptoms,\"symptoms\"].apply(stringChecker, args=([[\"fatigue\", \"malaise\", \"weakness\", \"chest\"]]))\n",
    "c_data.loc[indexSymptoms,\"headache\"] = c_data.loc[indexSymptoms,\"symptoms\"].apply(stringChecker, args=([[\"headache\"]]))\n",
    "c_data.loc[indexSymptoms,\"dizziness\"] = c_data.loc[indexSymptoms,\"symptoms\"].apply(stringChecker, args=([[\"dizzy\", \"vertigo\", \"dizziness\", \"dizz\"]]))\n",
    "c_data.loc[indexSymptoms,\"sore throat\"] = c_data.loc[indexSymptoms,\"symptoms\"].apply(stringChecker, args=([[\"sore throat\", \"throat\"]]))\n",
    "c_data.loc[indexSymptoms,\"pneumonia\"] = c_data.loc[indexSymptoms,\"symptoms\"].apply(stringChecker, args=([[\"pneumonia\"]]))\n",
    "c_data.loc[indexSymptoms,\"respiratory\"] = c_data.loc[indexSymptoms,\"symptoms\"].apply(extractFuzzy, args=([[\"mild respiratory\"]]))\n",
    "c_data.loc[indexSymptoms,\"severe_r\"] = c_data.loc[indexSymptoms,\"symptoms\"].apply(extractFuzzy, args=([[\"acute respiratory\", \"severe respiratory\"]]))\n",
    "c_data.loc[indexSymptoms,\"nausea\"] = c_data.loc[indexSymptoms,\"symptoms\"].apply(stringChecker, args=([[\"nausea\", \"vomiting\"]]))\n",
    "c_data.loc[indexSymptoms,\"diarrhea\"] = c_data.loc[indexSymptoms,\"symptoms\"].apply(stringChecker, args=([[\"diarrhea\"]]))\n",
    "c_data[indexSymptoms].head()"
   ]
  },
  {
   "cell_type": "code",
   "execution_count": 26,
   "metadata": {},
   "outputs": [
    {
     "data": {
      "text/plain": [
       "1.0    1884\n",
       "0.0     169\n",
       "Name: fever, dtype: int64"
      ]
     },
     "execution_count": 26,
     "metadata": {},
     "output_type": "execute_result"
    }
   ],
   "source": [
    "c_data.loc[indexSymptoms,\"fever\"].value_counts()"
   ]
  },
  {
   "cell_type": "code",
   "execution_count": 27,
   "metadata": {},
   "outputs": [
    {
     "data": {
      "text/plain": [
       "0.0    1943\n",
       "1.0     110\n",
       "Name: pneumonia, dtype: int64"
      ]
     },
     "execution_count": 27,
     "metadata": {},
     "output_type": "execute_result"
    }
   ],
   "source": [
    "c_data.loc[indexSymptoms, \"pneumonia\"].value_counts()"
   ]
  },
  {
   "cell_type": "code",
   "execution_count": 28,
   "metadata": {},
   "outputs": [
    {
     "data": {
      "text/plain": [
       "0.0    2012\n",
       "1.0      41\n",
       "Name: respiratory, dtype: int64"
      ]
     },
     "execution_count": 28,
     "metadata": {},
     "output_type": "execute_result"
    }
   ],
   "source": [
    "c_data.loc[indexSymptoms, \"respiratory\"].value_counts()"
   ]
  },
  {
   "cell_type": "code",
   "execution_count": 29,
   "metadata": {},
   "outputs": [
    {
     "data": {
      "text/plain": [
       "0.0    1951\n",
       "1.0     102\n",
       "Name: severe_r, dtype: int64"
      ]
     },
     "execution_count": 29,
     "metadata": {},
     "output_type": "execute_result"
    }
   ],
   "source": [
    "c_data.loc[indexSymptoms, \"severe_r\"].value_counts()"
   ]
  },
  {
   "cell_type": "code",
   "execution_count": 30,
   "metadata": {},
   "outputs": [
    {
     "data": {
      "text/plain": [
       "0.0    1451\n",
       "1.0     602\n",
       "Name: cough, dtype: int64"
      ]
     },
     "execution_count": 30,
     "metadata": {},
     "output_type": "execute_result"
    }
   ],
   "source": [
    "c_data.loc[indexSymptoms, \"cough\"].value_counts()"
   ]
  },
  {
   "cell_type": "code",
   "execution_count": 31,
   "metadata": {},
   "outputs": [
    {
     "data": {
      "text/plain": [
       "0.0    2031\n",
       "1.0      22\n",
       "Name: diarrhea, dtype: int64"
      ]
     },
     "execution_count": 31,
     "metadata": {},
     "output_type": "execute_result"
    }
   ],
   "source": [
    "c_data.loc[indexSymptoms, \"diarrhea\"].value_counts()"
   ]
  },
  {
   "cell_type": "code",
   "execution_count": 32,
   "metadata": {},
   "outputs": [
    {
     "data": {
      "text/plain": [
       "0.0    1931\n",
       "1.0     122\n",
       "Name: sore throat, dtype: int64"
      ]
     },
     "execution_count": 32,
     "metadata": {},
     "output_type": "execute_result"
    }
   ],
   "source": [
    "c_data.loc[indexSymptoms, \"sore throat\"].value_counts()"
   ]
  },
  {
   "cell_type": "code",
   "execution_count": 33,
   "metadata": {},
   "outputs": [],
   "source": [
    "c_data.to_csv(\"covid19_cleaned.zip\", compression=\"zip\")"
   ]
  },
  {
   "cell_type": "code",
   "execution_count": 34,
   "metadata": {},
   "outputs": [
    {
     "data": {
      "text/html": [
       "<div>\n",
       "<style scoped>\n",
       "    .dataframe tbody tr th:only-of-type {\n",
       "        vertical-align: middle;\n",
       "    }\n",
       "\n",
       "    .dataframe tbody tr th {\n",
       "        vertical-align: top;\n",
       "    }\n",
       "\n",
       "    .dataframe thead th {\n",
       "        text-align: right;\n",
       "    }\n",
       "</style>\n",
       "<table border=\"1\" class=\"dataframe\">\n",
       "  <thead>\n",
       "    <tr style=\"text-align: right;\">\n",
       "      <th></th>\n",
       "      <th>Unnamed: 0</th>\n",
       "      <th>ID</th>\n",
       "      <th>age</th>\n",
       "      <th>sex</th>\n",
       "      <th>city</th>\n",
       "      <th>province</th>\n",
       "      <th>country</th>\n",
       "      <th>latitude</th>\n",
       "      <th>longitude</th>\n",
       "      <th>geo_resolution</th>\n",
       "      <th>...</th>\n",
       "      <th>cough</th>\n",
       "      <th>fatigue</th>\n",
       "      <th>headache</th>\n",
       "      <th>dizziness</th>\n",
       "      <th>sore throat</th>\n",
       "      <th>pneumonia</th>\n",
       "      <th>respiratory</th>\n",
       "      <th>severe_r</th>\n",
       "      <th>nausea</th>\n",
       "      <th>diarrhea</th>\n",
       "    </tr>\n",
       "  </thead>\n",
       "  <tbody>\n",
       "    <tr>\n",
       "      <th>0</th>\n",
       "      <td>0</td>\n",
       "      <td>000-1-1</td>\n",
       "      <td>NaN</td>\n",
       "      <td>male</td>\n",
       "      <td>Shek Lei</td>\n",
       "      <td>Hong Kong</td>\n",
       "      <td>China</td>\n",
       "      <td>22.365019</td>\n",
       "      <td>114.133808</td>\n",
       "      <td>point</td>\n",
       "      <td>...</td>\n",
       "      <td>NaN</td>\n",
       "      <td>NaN</td>\n",
       "      <td>NaN</td>\n",
       "      <td>NaN</td>\n",
       "      <td>NaN</td>\n",
       "      <td>NaN</td>\n",
       "      <td>NaN</td>\n",
       "      <td>NaN</td>\n",
       "      <td>NaN</td>\n",
       "      <td>NaN</td>\n",
       "    </tr>\n",
       "    <tr>\n",
       "      <th>1</th>\n",
       "      <td>1</td>\n",
       "      <td>000-1-10</td>\n",
       "      <td>78</td>\n",
       "      <td>male</td>\n",
       "      <td>Vo Euganeo</td>\n",
       "      <td>Veneto</td>\n",
       "      <td>Italy</td>\n",
       "      <td>45.297748</td>\n",
       "      <td>11.658382</td>\n",
       "      <td>point</td>\n",
       "      <td>...</td>\n",
       "      <td>NaN</td>\n",
       "      <td>NaN</td>\n",
       "      <td>NaN</td>\n",
       "      <td>NaN</td>\n",
       "      <td>NaN</td>\n",
       "      <td>NaN</td>\n",
       "      <td>NaN</td>\n",
       "      <td>NaN</td>\n",
       "      <td>NaN</td>\n",
       "      <td>NaN</td>\n",
       "    </tr>\n",
       "    <tr>\n",
       "      <th>2</th>\n",
       "      <td>2</td>\n",
       "      <td>000-1-100</td>\n",
       "      <td>61</td>\n",
       "      <td>female</td>\n",
       "      <td>NaN</td>\n",
       "      <td>NaN</td>\n",
       "      <td>Singapore</td>\n",
       "      <td>1.353460</td>\n",
       "      <td>103.815100</td>\n",
       "      <td>admin0</td>\n",
       "      <td>...</td>\n",
       "      <td>NaN</td>\n",
       "      <td>NaN</td>\n",
       "      <td>NaN</td>\n",
       "      <td>NaN</td>\n",
       "      <td>NaN</td>\n",
       "      <td>NaN</td>\n",
       "      <td>NaN</td>\n",
       "      <td>NaN</td>\n",
       "      <td>NaN</td>\n",
       "      <td>NaN</td>\n",
       "    </tr>\n",
       "  </tbody>\n",
       "</table>\n",
       "<p>3 rows × 47 columns</p>\n",
       "</div>"
      ],
      "text/plain": [
       "   Unnamed: 0         ID  age     sex        city   province    country  \\\n",
       "0           0    000-1-1  NaN    male    Shek Lei  Hong Kong      China   \n",
       "1           1   000-1-10   78    male  Vo Euganeo     Veneto      Italy   \n",
       "2           2  000-1-100   61  female         NaN        NaN  Singapore   \n",
       "\n",
       "    latitude   longitude geo_resolution  ... cough fatigue headache dizziness  \\\n",
       "0  22.365019  114.133808          point  ...   NaN     NaN      NaN       NaN   \n",
       "1  45.297748   11.658382          point  ...   NaN     NaN      NaN       NaN   \n",
       "2   1.353460  103.815100         admin0  ...   NaN     NaN      NaN       NaN   \n",
       "\n",
       "  sore throat pneumonia respiratory severe_r nausea  diarrhea  \n",
       "0         NaN       NaN         NaN      NaN    NaN       NaN  \n",
       "1         NaN       NaN         NaN      NaN    NaN       NaN  \n",
       "2         NaN       NaN         NaN      NaN    NaN       NaN  \n",
       "\n",
       "[3 rows x 47 columns]"
      ]
     },
     "execution_count": 34,
     "metadata": {},
     "output_type": "execute_result"
    }
   ],
   "source": [
    "covid = pd.read_csv(\"covid19_cleaned.zip\", low_memory = False)\n",
    "covid[:3]"
   ]
  },
  {
   "cell_type": "code",
   "execution_count": 36,
   "metadata": {},
   "outputs": [
    {
     "name": "stdout",
     "output_type": "stream",
     "text": [
      "(2310111, 36)\n"
     ]
    }
   ],
   "source": [
    "dropcols = [\"admin_id\", \"notes_for_discussion\", \"source\",\n",
    "            \"geo_resolution\", \"lives_in_Wuhan\", \"additional_information\",\n",
    "            \"sequence_available\", \"data_moderator_initials\", \"location\",\n",
    "           \"country_new\", \"Unnamed: 0\"]\n",
    "\n",
    "covid = covid.drop(covid[dropcols], axis = 1)\n",
    "print(covid.shape)"
   ]
  },
  {
   "cell_type": "code",
   "execution_count": 37,
   "metadata": {},
   "outputs": [],
   "source": [
    "#cleaning of the age column\n",
    "\n",
    "age = np.array(covid.age)\n",
    "sym = [\"weeks\", \"+\", \"-\", \" \"]\n",
    "for x,y in enumerate(age):\n",
    "    if type(y) is float:\n",
    "        age[x] = y\n",
    "    elif sym[0] in y:\n",
    "        age[x] = 0\n",
    "    elif sym[1] in y:\n",
    "        age[x] = y.replace('+','')\n",
    "        age[x] = int(round(float(age[x])))\n",
    "    elif sym[2] in y:\n",
    "        if len(y) >= 4:\n",
    "            mat = y.split(\"-\")\n",
    "            if \"Sep\" in mat:\n",
    "                age[x] = 0\n",
    "            else:\n",
    "                age[x] = (int(mat[0]) + int(mat[1]))/2\n",
    "        else:\n",
    "            age[x] = y.replace('-','')\n",
    "            age[x] = int(round(float(age[x])))\n",
    "    elif sym[3] in y:\n",
    "        num, month = y.split(\" \")\n",
    "        num = int(num)\n",
    "        if num < 6:\n",
    "            age[x] = 0\n",
    "        elif num >= 6 and num < 18:\n",
    "            age[x] = 1\n",
    "        else:\n",
    "            age[x] = 2\n",
    "for x,y in enumerate(age):\n",
    "    age[x] = float(y)\n",
    "covid[\"age\"] = age\n",
    "covid[\"age\"].fillna(covid[\"age\"].mean(), inplace = True)\n",
    "covid['age'] = covid['age'].astype(float)"
   ]
  },
  {
   "cell_type": "code",
   "execution_count": 38,
   "metadata": {},
   "outputs": [],
   "source": [
    "#converts bool to binary.\n",
    "\n",
    "covid.chronic_disease_binary = [1 if x == True else 0 for x in covid.chronic_disease_binary]"
   ]
  },
  {
   "cell_type": "code",
   "execution_count": 39,
   "metadata": {},
   "outputs": [],
   "source": [
    "#drop missing country values. conveniently drops missing lat and long vals.\n",
    "\n",
    "covid = covid.dropna(subset = [\"country\"])"
   ]
  },
  {
   "cell_type": "code",
   "execution_count": 40,
   "metadata": {},
   "outputs": [],
   "source": [
    "#nan becomes a zero, if they traveled it becomes a one\n",
    "\n",
    "covid.travel_history_binary = [1 if x == True else 0 for x in covid[\"travel_history_binary\"]]"
   ]
  },
  {
   "cell_type": "code",
   "execution_count": 41,
   "metadata": {},
   "outputs": [
    {
     "data": {
      "text/plain": [
       "female    1159047\n",
       "male      1150949\n",
       "Name: sex, dtype: int64"
      ]
     },
     "execution_count": 41,
     "metadata": {},
     "output_type": "execute_result"
    }
   ],
   "source": [
    "# craft a boolean array and for values False (NaN), cut in half and assign half female/male??\n",
    "\n",
    "sex_e = np.array([\"male\", \"female\"])\n",
    "sex = np.array(covid.sex)\n",
    "\n",
    "sex_is_bool = [True if x == \"male\" or x == \"female\" else False for x in covid[\"sex\"]]\n",
    "for x, y in enumerate(sex_is_bool):\n",
    "    if y == False:\n",
    "        sex[x] = np.random.choice(sex_e)\n",
    "covid.sex = sex\n",
    "covid.sex.value_counts()"
   ]
  },
  {
   "cell_type": "code",
   "execution_count": null,
   "metadata": {},
   "outputs": [],
   "source": [
    "#this is the final product. this code will be utilized to run ML algorithims.\n",
    "covid.to_csv(\"DATA\", compression = \"zip\")"
   ]
  }
 ],
 "metadata": {
  "kernelspec": {
   "display_name": "Python 3",
   "language": "python",
   "name": "python3"
  },
  "language_info": {
   "codemirror_mode": {
    "name": "ipython",
    "version": 3
   },
   "file_extension": ".py",
   "mimetype": "text/x-python",
   "name": "python",
   "nbconvert_exporter": "python",
   "pygments_lexer": "ipython3",
   "version": "3.8.3"
  }
 },
 "nbformat": 4,
 "nbformat_minor": 4
}
